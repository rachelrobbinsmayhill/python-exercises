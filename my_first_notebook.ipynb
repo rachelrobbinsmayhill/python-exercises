{
 "cells": [
  {
   "cell_type": "markdown",
   "id": "27d8c381",
   "metadata": {},
   "source": [
    "# Python Introduction Exercises - \n",
    "## my_first_jupyter_notebook.py"
   ]
  },
  {
   "cell_type": "markdown",
   "id": "6f69b5e0",
   "metadata": {},
   "source": [
    "### Execute 3 python cells"
   ]
  },
  {
   "cell_type": "code",
   "execution_count": 2,
   "id": "460327d1",
   "metadata": {},
   "outputs": [
    {
     "data": {
      "text/plain": [
       "4"
      ]
     },
     "execution_count": 2,
     "metadata": {},
     "output_type": "execute_result"
    }
   ],
   "source": [
    "# Python Cell 1\n",
    "\n",
    "2 + 2"
   ]
  },
  {
   "cell_type": "code",
   "execution_count": 3,
   "id": "a7af0eb3",
   "metadata": {},
   "outputs": [
    {
     "name": "stdout",
     "output_type": "stream",
     "text": [
      "28\n"
     ]
    }
   ],
   "source": [
    "# Python Cell 2\n",
    "\n",
    "var1 = 24\n",
    "print (var1 + 4)"
   ]
  },
  {
   "cell_type": "code",
   "execution_count": 4,
   "id": "a9ef6a76",
   "metadata": {},
   "outputs": [
    {
     "name": "stdout",
     "output_type": "stream",
     "text": [
      "This is a string and this is also a string.\n"
     ]
    }
   ],
   "source": [
    "# Python Cell 3\n",
    "\n",
    "message = 'This is a string'\n",
    "message2 = 'this is also a string.'\n",
    "\n",
    "print(message, 'and', message2)"
   ]
  },
  {
   "cell_type": "markdown",
   "id": "65f2252f",
   "metadata": {},
   "source": [
    "### Keyboard Shortcuts for Jupyter Notebook\n",
    "\n",
    "BOTH EDIT and COMMAND Mode\n",
    "\n",
    "Shift + Enter run the current cell, select below\n",
    "\n",
    "Ctrl + Enter run selected cells\n",
    "\n",
    "Alt(Option) + Enter run the current cell, insert below\n",
    "\n",
    "Ctrl + S save and checkpoint"
   ]
  },
  {
   "cell_type": "markdown",
   "id": "e32066d7",
   "metadata": {},
   "source": [
    "### MORE Keyboard Shortcuts for Jupyter Notebook\n",
    "\n",
    "While in command mode (press Esc to activate):\n",
    "\n",
    "Enter take you into edit mode\n",
    "\n",
    "H show all shortcuts\n",
    "\n",
    "Up select cell above\n",
    "\n",
    "Down select cell below\n",
    "\n",
    "Shift + Up extend selected cells above\n",
    "\n",
    "Shift + Down extend selected cells below\n",
    "\n",
    "A insert cell above\n",
    "\n",
    "B insert cell below\n",
    "\n",
    "X cut selected cells\n",
    "\n",
    "C copy selected cells\n",
    "\n",
    "V paste cells below\n",
    "\n",
    "Shift + V paste cells above\n",
    "\n",
    "D, D (press the key twice) delete selected cells\n",
    "\n",
    "Z undo cell deletion\n",
    "\n",
    "S Save and Checkpoint\n",
    "\n",
    "Y change the cell type to Code\n",
    "\n",
    "M change the cell type to Markdown"
   ]
  }
 ],
 "metadata": {
  "kernelspec": {
   "display_name": "Python 3 (ipykernel)",
   "language": "python",
   "name": "python3"
  },
  "language_info": {
   "codemirror_mode": {
    "name": "ipython",
    "version": 3
   },
   "file_extension": ".py",
   "mimetype": "text/x-python",
   "name": "python",
   "nbconvert_exporter": "python",
   "pygments_lexer": "ipython3",
   "version": "3.9.7"
  }
 },
 "nbformat": 4,
 "nbformat_minor": 5
}
