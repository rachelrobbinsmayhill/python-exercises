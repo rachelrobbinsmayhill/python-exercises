{
 "cells": [
  {
   "cell_type": "markdown",
   "id": "cc35551c",
   "metadata": {},
   "source": [
    "# Data Types, Variables, and Operators \n",
    "### data_types_and_variables.py"
   ]
  },
  {
   "cell_type": "markdown",
   "id": "6f266c8c",
   "metadata": {},
   "source": [
    "## Practice Problems from Data Types, Operators, and Variables"
   ]
  },
  {
   "cell_type": "markdown",
   "id": "cc90fdb3",
   "metadata": {},
   "source": [
    "### 1. You have rented some movies for your kids: The little mermaid (for 3 days), Brother Bear (for 5 days, they love it), and Hercules (1 day, you don't know yet if they're going to like it). If price for a movie per day is 3 dollars, how much will you have to pay?"
   ]
  },
  {
   "cell_type": "code",
   "execution_count": 1,
   "id": "00ebc980",
   "metadata": {},
   "outputs": [
    {
     "data": {
      "text/plain": [
       "['The total payment is $ 27.00.']"
      ]
     },
     "execution_count": 1,
     "metadata": {},
     "output_type": "execute_result"
    }
   ],
   "source": [
    "# little_mermaid * 3_days\n",
    "# brother_bear * 5_days\n",
    "# hercules * 1_day\n",
    "# price_per_day = $3\n",
    "\n",
    "lit_mer_days = 3\n",
    "bro_bear_days = 5\n",
    "hercules_days = 1\n",
    "\n",
    "price_per_day = 3.00\n",
    "\n",
    "total_days = (lit_mer_days + bro_bear_days + hercules_days) \n",
    "\n",
    "total_payment = total_days * price_per_day\n",
    "\n",
    "\n",
    "\n",
    "[ \"The total payment is ${0: .2f}.\".format(total_payment)]\n",
    "# $27"
   ]
  },
  {
   "cell_type": "markdown",
   "id": "09e6ba37",
   "metadata": {},
   "source": [
    "#### As Instructed During Review:"
   ]
  },
  {
   "cell_type": "code",
   "execution_count": 4,
   "id": "14d88fe9",
   "metadata": {},
   "outputs": [
    {
     "name": "stdout",
     "output_type": "stream",
     "text": [
      "27.0\n",
      "Amount spend on Disney products was $27.0\n"
     ]
    }
   ],
   "source": [
    "price_per_day = 3.0\n",
    "mermaid_days = 3\n",
    "bear_days = 5\n",
    "herc_days = 1\n",
    "# total price paid = total days * rate\n",
    "total_days = mermaid_days + bear_days + herc_days\n",
    "total_days\n",
    "amount_spent = total_days *price_per_day\n",
    "print(amount_spent)\n",
    "print(f'Amount spend on Disney products was ${amount_spent}')"
   ]
  },
  {
   "cell_type": "markdown",
   "id": "3d06e6d7",
   "metadata": {},
   "source": [
    "----------------------------------------------------------------------"
   ]
  },
  {
   "cell_type": "markdown",
   "id": "cb42492f",
   "metadata": {},
   "source": [
    "### 2. Suppose you're working as a contractor for 3 companies: Google, Amazon and Facebook, they pay you a different rate per hour. Google pays 400 dollars per hour, Amazon 380, and Facebook 350. How much will you receive in payment for this week? You worked 10 hours for Facebook, 6 hours for Google and 4 hours for Amazon."
   ]
  },
  {
   "cell_type": "code",
   "execution_count": 2,
   "id": "64ffa786",
   "metadata": {},
   "outputs": [
    {
     "name": "stdout",
     "output_type": "stream",
     "text": [
      "The total amount I will make this week is $7420.\n"
     ]
    }
   ],
   "source": [
    "# Google 400/hour * 6 hours\n",
    "# Amazon 380/hour * 4 hours\n",
    "# Facebook 350/hour * 10 hours\n",
    "\n",
    "google_rate = 400\n",
    "amazon_rate = 380\n",
    "facebook_rate = 350 \n",
    "\n",
    "google_hours = 6\n",
    "amazon_hours = 4\n",
    "facebook_hours = 10\n",
    "\n",
    "total_google = google_rate * google_hours\n",
    "total_amazon = amazon_rate * amazon_hours\n",
    "total_facebook = facebook_rate * facebook_hours\n",
    "\n",
    "total_payment = total_google + total_amazon + total_facebook\n",
    "print(f'The total amount I will make this week is ${total_payment}.')"
   ]
  },
  {
   "cell_type": "markdown",
   "id": "4a7d9337",
   "metadata": {},
   "source": [
    "#### As Instructed During Review:"
   ]
  },
  {
   "cell_type": "code",
   "execution_count": 5,
   "id": "cc5754ed",
   "metadata": {},
   "outputs": [
    {
     "name": "stdout",
     "output_type": "stream",
     "text": [
      "Total pay for the week is 7420\n"
     ]
    }
   ],
   "source": [
    "# Google, Amazon and Facebook, they pay you a \n",
    "# different rate per hour. \n",
    "# Google pays 400 dollars per hour, \n",
    "# Amazon 380, \n",
    "# and Facebook 350. \n",
    "# How much will you receive in payment for this week? \n",
    "# You worked 10 hours for Facebook, \n",
    "# 6 hours for Google and 4 hours for Amazon.\n",
    "\n",
    "google_rate = 400\n",
    "amazon_rate = 380\n",
    "facebook_rate = 350\n",
    "\n",
    "google_hours = 6\n",
    "facebook_hours = 10\n",
    "amazon_hours = 4\n",
    "\n",
    "total_comp = (google_rate * google_hours) + (facebook_rate * facebook_hours) + (amazon_rate * amazon_hours)\n",
    "print(f'Total pay for the week is {total_comp}')"
   ]
  },
  {
   "cell_type": "markdown",
   "id": "85d92378",
   "metadata": {},
   "source": [
    "----------------------------------------------------------------------"
   ]
  },
  {
   "cell_type": "markdown",
   "id": "9e656bfc",
   "metadata": {},
   "source": [
    "### 3. A student can be enrolled to a class only if the class is not full and the class schedule does not conflict with her current schedule."
   ]
  },
  {
   "cell_type": "code",
   "execution_count": 4,
   "id": "be856405",
   "metadata": {},
   "outputs": [
    {
     "data": {
      "text/plain": [
       "True"
      ]
     },
     "execution_count": 4,
     "metadata": {},
     "output_type": "execute_result"
    }
   ],
   "source": [
    "class_not_full = True\n",
    "no_conflict = True\n",
    "\n",
    "class_not_full and no_conflict\n",
    "student_can_enroll = class_not_full and no_conflict\n",
    "\n",
    "student_can_enroll\n",
    "\n",
    "# testing code\n",
    "# not class_not_full and not no_conflict\n",
    "# not class_not_full and no_conflict\n",
    "# class_not_full and not no_conflict"
   ]
  },
  {
   "cell_type": "markdown",
   "id": "8ca2c637",
   "metadata": {},
   "source": [
    "#### As Instructed During Review:"
   ]
  },
  {
   "cell_type": "code",
   "execution_count": 11,
   "id": "c9bb9162",
   "metadata": {},
   "outputs": [
    {
     "name": "stdout",
     "output_type": "stream",
     "text": [
      "Can the student enroll? \n",
      " False\n"
     ]
    }
   ],
   "source": [
    "# A student can be enrolled to a class \n",
    "# only if the class is not full \n",
    "# and the class schedule does not conflict with her current schedule.\n",
    "# What are our nouns/states of the world:\n",
    "# The class has room or not\n",
    "# Student schedule works or not\n",
    "# Student can enroll = class has room and student's schedule works\n",
    "\n",
    "class_has_room = True\n",
    "schedule_has_room = False\n",
    "student_can_enroll = class_has_room and schedule_has_room\n",
    "print(f'Can the student enroll? \\n {student_can_enroll}')"
   ]
  },
  {
   "cell_type": "markdown",
   "id": "74e52857",
   "metadata": {},
   "source": [
    "----------------------------------------------------------------------"
   ]
  },
  {
   "cell_type": "markdown",
   "id": "e80e863a",
   "metadata": {},
   "source": [
    "### 4. A product offer can be applied only if people buys more than 2 items, and the offer has not expired. Premium members do not need to buy a specific amount of products."
   ]
  },
  {
   "cell_type": "code",
   "execution_count": 5,
   "id": "551632de",
   "metadata": {},
   "outputs": [
    {
     "data": {
      "text/plain": [
       "True"
      ]
     },
     "execution_count": 5,
     "metadata": {},
     "output_type": "execute_result"
    }
   ],
   "source": [
    "# Can be applied if X 2 items AND offer is not expired\n",
    "# premium members don't need a specific quantity\n",
    "\n",
    "premium_member = True\n",
    "offer_unexpired= True\n",
    "qualifying_items = 3\n",
    "\n",
    "discount_applied = offer_unexpired and (qualifying_items >=3 or premium_member)\n",
    "\n",
    "discount_applied"
   ]
  },
  {
   "cell_type": "markdown",
   "id": "d8356338",
   "metadata": {},
   "source": [
    "#### As Instructed During Review:"
   ]
  },
  {
   "cell_type": "code",
   "execution_count": 14,
   "id": "5df87810",
   "metadata": {},
   "outputs": [
    {
     "name": "stdout",
     "output_type": "stream",
     "text": [
      "Is discount valid?\n",
      "True\n"
     ]
    }
   ],
   "source": [
    "# A product offer can be applied only if people \n",
    "# buys more than 2 items, \n",
    "# and the offer has not expired. \n",
    "# Premium members do not need to buy a specific amount of products.\n",
    "# Let's think of our setup for the program:\n",
    "# (More than two items OR premium member) and offer is still good\n",
    "\n",
    "is_premium_member = True\n",
    "more_than_two_items = False\n",
    "# (is_premium_member or more_than_two_items)\n",
    "offer_not_expired = True\n",
    "discount_valid = offer_not_expired and (is_premium_member or more_than_two_items)\n",
    "print('Is discount valid?')\n",
    "print(discount_valid)"
   ]
  },
  {
   "cell_type": "markdown",
   "id": "bd5133be",
   "metadata": {},
   "source": [
    "----------------------------------------------------------------------"
   ]
  },
  {
   "cell_type": "markdown",
   "id": "82cf5870",
   "metadata": {},
   "source": [
    "### 5. Continue working in your data_types_and_variables.py file. Use the following code to follow the instructions below:\n",
    "\n",
    "\n",
    "- username = 'codeup'\n",
    "- password = 'notastrongpassword'\n",
    "\n",
    "Create a variable that holds a boolean value for each of the following conditions:\n",
    "\n",
    "- the password must be at least 5 characters\n",
    "- the username must be no more than 20 characters\n",
    "- the password must not be the same as the username\n",
    "- bonus neither the username or password can start or end with whitespace"
   ]
  },
  {
   "cell_type": "code",
   "execution_count": 20,
   "id": "8d5dc74e",
   "metadata": {},
   "outputs": [
    {
     "name": "stdout",
     "output_type": "stream",
     "text": [
      "notastrongpassword \n",
      "codeup\n"
     ]
    }
   ],
   "source": [
    "password = 'notastrongpassword'\n",
    "# password must be at least 5 characters\n",
    "# username must be no more than 20 characters\n",
    "# password must not be the same as the username\n",
    "# bonus neither the username or password can start or end with whitespace\n",
    "\n",
    "username = 'codeup'\n",
    "password = 'notastrongpassword '\n",
    "\n",
    "password_length = len(password) >=5\n",
    "username_length = len(username) >=20\n",
    "password_not_username = (password != username)\n",
    "\n",
    "username.strip()\n",
    "password.strip()\n",
    "\n",
    "print(password)\n",
    "print(username)"
   ]
  },
  {
   "cell_type": "markdown",
   "id": "6236087d",
   "metadata": {},
   "source": [
    "#### As Instructed During Review:"
   ]
  },
  {
   "cell_type": "code",
   "execution_count": 21,
   "id": "10dab64a",
   "metadata": {},
   "outputs": [
    {
     "name": "stdout",
     "output_type": "stream",
     "text": [
      "Username good?\n",
      "True\n",
      "password good?\n",
      "False\n",
      "credentials valid?\n",
      "False\n"
     ]
    }
   ],
   "source": [
    "# Let's play password setups!\n",
    "# Create a variable that holds a boolean\n",
    "# value for each of the following conditions:\n",
    "# the password must be at least 5 characters\n",
    "# the username must be no more than 20 characters\n",
    "# the password must not be the same as the username\n",
    "# bonus neither the username or password can start or end with whitespace\n",
    "\n",
    "username = 'codeup'\n",
    "password = 'notastrongpassword '\n",
    "\n",
    "password_is_long_enough = len(password) >= 5\n",
    "username_is_short_enough = len(username) <= 20\n",
    "\n",
    "username_and_password_are_different = username != password\n",
    "username_has_spaces = username != username.strip()\n",
    "password_has_spaces = password != password.strip()\n",
    "\n",
    "\n",
    "## BONUS ## \n",
    "password.strip()\n",
    "password_has_spaces\n",
    "'notastrong password'.strip()\n",
    "\n",
    "username_good = username_is_short_enough and username_and_password_are_different and not username_has_spaces\n",
    "password_good = (password_is_long_enough) and (username_and_password_are_different) and not (password_has_spaces)\n",
    "\n",
    "password_good\n",
    "valid_credentials = username_good and password_good\n",
    "\n",
    "print('Username good?')\n",
    "print(username_good)\n",
    "print('password good?')\n",
    "print(password_good)\n",
    "print('credentials valid?')\n",
    "print(valid_credentials)"
   ]
  }
 ],
 "metadata": {
  "kernelspec": {
   "display_name": "Python 3 (ipykernel)",
   "language": "python",
   "name": "python3"
  },
  "language_info": {
   "codemirror_mode": {
    "name": "ipython",
    "version": 3
   },
   "file_extension": ".py",
   "mimetype": "text/x-python",
   "name": "python",
   "nbconvert_exporter": "python",
   "pygments_lexer": "ipython3",
   "version": "3.9.7"
  }
 },
 "nbformat": 4,
 "nbformat_minor": 5
}
