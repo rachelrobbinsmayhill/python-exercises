{
 "cells": [
  {
   "cell_type": "markdown",
   "id": "d00f1129",
   "metadata": {},
   "source": [
    "Create a jupyter notebook named import_exercises.ipynb. \n",
    "- Use from to import the get_letter_grade function and give it an alias. \n",
    "- Test this function in your notebook."
   ]
  },
  {
   "cell_type": "code",
   "execution_count": 7,
   "id": "fb02676a",
   "metadata": {},
   "outputs": [
    {
     "ename": "ModuleNotFoundError",
     "evalue": "No module named 'function_exercises'",
     "output_type": "error",
     "traceback": [
      "\u001b[0;31m---------------------------------------------------------------------------\u001b[0m",
      "\u001b[0;31mModuleNotFoundError\u001b[0m                       Traceback (most recent call last)",
      "\u001b[0;32m/var/folders/jx/x5_xzwy107g6d0zd021r2ph40000gn/T/ipykernel_52275/934374151.py\u001b[0m in \u001b[0;36m<module>\u001b[0;34m\u001b[0m\n\u001b[0;32m----> 1\u001b[0;31m \u001b[0;32mfrom\u001b[0m \u001b[0mfunction_exercises\u001b[0m \u001b[0;32mimport\u001b[0m \u001b[0mget_letter_grade\u001b[0m \u001b[0;32mas\u001b[0m \u001b[0mletter_grade\u001b[0m\u001b[0;34m\u001b[0m\u001b[0;34m\u001b[0m\u001b[0m\n\u001b[0m",
      "\u001b[0;31mModuleNotFoundError\u001b[0m: No module named 'function_exercises'"
     ]
    }
   ],
   "source": [
    "from function_exercises import get_letter_grade as letter_grade"
   ]
  },
  {
   "cell_type": "raw",
   "id": "e9de2cf0",
   "metadata": {},
   "source": [
    "letter_grade(70)"
   ]
  }
 ],
 "metadata": {
  "kernelspec": {
   "display_name": "Python 3 (ipykernel)",
   "language": "python",
   "name": "python3"
  },
  "language_info": {
   "codemirror_mode": {
    "name": "ipython",
    "version": 3
   },
   "file_extension": ".py",
   "mimetype": "text/x-python",
   "name": "python",
   "nbconvert_exporter": "python",
   "pygments_lexer": "ipython3",
   "version": "3.9.7"
  }
 },
 "nbformat": 4,
 "nbformat_minor": 5
}
