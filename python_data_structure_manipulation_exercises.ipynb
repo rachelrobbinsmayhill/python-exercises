{
 "cells": [
  {
   "cell_type": "code",
   "execution_count": 2,
   "id": "65577da1-e458-4eea-89b4-a51cd9e46bbe",
   "metadata": {},
   "outputs": [],
   "source": [
    "students = [\n",
    "    {\n",
    "        \"id\": \"100001\",\n",
    "        \"student\": \"Ada Lovelace\",\n",
    "        \"coffee_preference\": \"light\",\n",
    "        \"course\": \"web development\",\n",
    "        \"grades\": [70, 91, 82, 71],\n",
    "        \"pets\": [{\"species\": \"horse\", \"age\": 8}],\n",
    "    },\n",
    "    {\n",
    "        \"id\": \"100002\",\n",
    "        \"student\": \"Thomas Bayes\",\n",
    "        \"coffee_preference\": \"medium\",\n",
    "        \"course\": \"data science\",\n",
    "        \"grades\": [75, 73, 86, 100],\n",
    "        \"pets\": [],\n",
    "    },\n",
    "    {\n",
    "        \"id\": \"100003\",\n",
    "        \"student\": \"Marie Curie\",\n",
    "        \"coffee_preference\": \"light\",\n",
    "        \"course\": \"web development\",\n",
    "        \"grades\": [70, 89, 69, 65],\n",
    "        \"pets\": [{\"species\": \"cat\", \"age\": 0}],\n",
    "    },\n",
    "    {\n",
    "        \"id\": \"100004\",\n",
    "        \"student\": \"Grace Hopper\",\n",
    "        \"coffee_preference\": \"dark\",\n",
    "        \"course\": \"data science\",\n",
    "        \"grades\": [73, 66, 83, 92],\n",
    "        \"pets\": [{\"species\": \"dog\", \"age\": 4}, {\"species\": \"cat\", \"age\": 4}],\n",
    "    },\n",
    "    {\n",
    "        \"id\": \"100005\",\n",
    "        \"student\": \"Alan Turing\",\n",
    "        \"coffee_preference\": \"dark\",\n",
    "        \"course\": \"web development\",\n",
    "        \"grades\": [78, 98, 85, 65],\n",
    "        \"pets\": [\n",
    "            {\"species\": \"horse\", \"age\": 6},\n",
    "            {\"species\": \"horse\", \"age\": 7},\n",
    "            {\"species\": \"dog\", \"age\": 5},\n",
    "        ],\n",
    "    },\n",
    "    {\n",
    "        \"id\": \"100006\",\n",
    "        \"student\": \"Rosalind Franklin\",\n",
    "        \"coffee_preference\": \"dark\",\n",
    "        \"course\": \"data science\",\n",
    "        \"grades\": [76, 70, 96, 81],\n",
    "        \"pets\": [],\n",
    "    },\n",
    "    {\n",
    "        \"id\": \"100007\",\n",
    "        \"student\": \"Elizabeth Blackwell\",\n",
    "        \"coffee_preference\": \"dark\",\n",
    "        \"course\": \"web development\",\n",
    "        \"grades\": [69, 94, 89, 86],\n",
    "        \"pets\": [{\"species\": \"cat\", \"age\": 10}],\n",
    "    },\n",
    "    {\n",
    "        \"id\": \"100008\",\n",
    "        \"student\": \"Rene Descartes\",\n",
    "        \"coffee_preference\": \"medium\",\n",
    "        \"course\": \"data science\",\n",
    "        \"grades\": [87, 79, 90, 99],\n",
    "        \"pets\": [{\"species\": \"cat\", \"age\": 10}, {\"species\": \"cat\", \"age\": 8}],\n",
    "    },\n",
    "    {\n",
    "        \"id\": \"100009\",\n",
    "        \"student\": \"Ahmed Zewail\",\n",
    "        \"coffee_preference\": \"medium\",\n",
    "        \"course\": \"data science\",\n",
    "        \"grades\": [74, 99, 93, 89],\n",
    "        \"pets\": [{\"species\": \"cat\", \"age\": 0}, {\"species\": \"cat\", \"age\": 0}],\n",
    "    },\n",
    "    {\n",
    "        \"id\": \"100010\",\n",
    "        \"student\": \"Chien-Shiung Wu\",\n",
    "        \"coffee_preference\": \"medium\",\n",
    "        \"course\": \"web development\",\n",
    "        \"grades\": [82, 92, 91, 65],\n",
    "        \"pets\": [{\"species\": \"cat\", \"age\": 8}],\n",
    "    },\n",
    "    {\n",
    "        \"id\": \"100011\",\n",
    "        \"student\": \"William Sanford Nye\",\n",
    "        \"coffee_preference\": \"dark\",\n",
    "        \"course\": \"data science\",\n",
    "        \"grades\": [70, 92, 65, 99],\n",
    "        \"pets\": [{\"species\": \"cat\", \"age\": 8}, {\"species\": \"cat\", \"age\": 5}],\n",
    "    },\n",
    "    {\n",
    "        \"id\": \"100012\",\n",
    "        \"student\": \"Carl Sagan\",\n",
    "        \"coffee_preference\": \"medium\",\n",
    "        \"course\": \"data science\",\n",
    "        \"grades\": [100, 86, 91, 87],\n",
    "        \"pets\": [{\"species\": \"cat\", \"age\": 10}],\n",
    "    },\n",
    "    {\n",
    "        \"id\": \"100013\",\n",
    "        \"student\": \"Jane Goodall\",\n",
    "        \"coffee_preference\": \"light\",\n",
    "        \"course\": \"web development\",\n",
    "        \"grades\": [80, 70, 68, 98],\n",
    "        \"pets\": [{\"species\": \"horse\", \"age\": 4}],\n",
    "    },\n",
    "    {\n",
    "        \"id\": \"100014\",\n",
    "        \"student\": \"Richard Feynman\",\n",
    "        \"coffee_preference\": \"medium\",\n",
    "        \"course\": \"web development\",\n",
    "        \"grades\": [73, 99, 86, 98],\n",
    "        \"pets\": [{\"species\": \"dog\", \"age\": 6}],\n",
    "    },\n",
    "]\n"
   ]
  },
  {
   "cell_type": "markdown",
   "id": "34b177d3-5f79-4d30-8fe7-b7a762bf2a81",
   "metadata": {},
   "source": [
    "# 20 Python Data Structure Manipulation Exercises\n",
    "\n",
    "\n",
    "The following questions reference the `students` data structure below. Write\n",
    "the python code to answer the following questions:"
   ]
  },
  {
   "cell_type": "markdown",
   "id": "c44f1e64-fa9c-4cdc-aab9-01c7237a4b20",
   "metadata": {},
   "source": [
    "1. How many students are there?"
   ]
  },
  {
   "cell_type": "code",
   "execution_count": 3,
   "id": "f6420ab1-fa70-4186-9d30-a3d5ec6be9da",
   "metadata": {},
   "outputs": [
    {
     "data": {
      "text/plain": [
       "14"
      ]
     },
     "execution_count": 3,
     "metadata": {},
     "output_type": "execute_result"
    }
   ],
   "source": [
    "len(students)"
   ]
  },
  {
   "cell_type": "markdown",
   "id": "3d96eda6-acf1-4382-9c3a-32acdbe0197f",
   "metadata": {},
   "source": [
    "2. How many students prefer light coffee? For each type of coffee roast?"
   ]
  },
  {
   "cell_type": "code",
   "execution_count": 8,
   "id": "97c59ee1-e82b-47bc-b832-760ab4fe9b5f",
   "metadata": {},
   "outputs": [
    {
     "name": "stdout",
     "output_type": "stream",
     "text": [
      "3\n"
     ]
    }
   ],
   "source": [
    "prefer_light = 0\n",
    "for student in students:\n",
    "    if student['coffee_preference'] == 'light':\n",
    "        prefer_light +=1\n",
    "\n",
    "print(prefer_light)"
   ]
  },
  {
   "cell_type": "markdown",
   "id": "c6928606-1cd9-4ee6-85e7-ea719edeb976",
   "metadata": {},
   "source": [
    "1. How many types of each pet are there?"
   ]
  },
  {
   "cell_type": "markdown",
   "id": "9ef81c9c-360f-4851-8bc1-c347619239f7",
   "metadata": {},
   "source": [
    "1. How many grades does each student have? Do they all have the same number of\n",
    "grades?"
   ]
  },
  {
   "cell_type": "markdown",
   "id": "333be16c-21bd-4e66-bfad-e46466b49b5f",
   "metadata": {},
   "source": [
    "1. What is each student's grade average?"
   ]
  },
  {
   "cell_type": "markdown",
   "id": "db510619-bc7e-4f17-b027-5b9f4439833b",
   "metadata": {},
   "source": [
    "1. How many pets does each student have?"
   ]
  },
  {
   "cell_type": "markdown",
   "id": "98e72c2b-cacf-44b8-91c9-ed6371485520",
   "metadata": {},
   "source": [
    "1. How many students are in web development? data science?"
   ]
  },
  {
   "cell_type": "markdown",
   "id": "6439cb3f-1d66-4fe9-8342-942f9fab0695",
   "metadata": {},
   "source": [
    "1. What is the average number of pets for students in web development?"
   ]
  },
  {
   "cell_type": "markdown",
   "id": "4a3ec164-7b9f-44fd-820c-56c48ad819d2",
   "metadata": {},
   "source": [
    "1. What is the average pet age for students in data science?"
   ]
  },
  {
   "cell_type": "markdown",
   "id": "75f84129-eaa9-4cbb-a074-1f809fafffb9",
   "metadata": {},
   "source": [
    "1. What is most frequent coffee preference for data science students?"
   ]
  },
  {
   "cell_type": "markdown",
   "id": "e811862c-708a-4f2c-a512-583728f7515b",
   "metadata": {},
   "source": [
    "1. What is the least frequent coffee preference for web development students?"
   ]
  },
  {
   "cell_type": "markdown",
   "id": "726bee06-8eaa-4f5e-8ffa-48e131cf6fdc",
   "metadata": {},
   "source": [
    "1. What is the average grade for students with at least 2 pets?"
   ]
  },
  {
   "cell_type": "markdown",
   "id": "bc294924-07df-4bff-ad0c-6b6ae5e2b005",
   "metadata": {},
   "source": [
    "1. How many students have 3 pets?"
   ]
  },
  {
   "cell_type": "markdown",
   "id": "f3b6e157-8960-4259-9f1c-a6de81243dcf",
   "metadata": {},
   "source": [
    "1. What is the average grade for students with 0 pets?"
   ]
  },
  {
   "cell_type": "markdown",
   "id": "4743f17e-fb97-49fd-be54-7bd2a3cb246f",
   "metadata": {},
   "source": [
    "1. What is the average grade for web development students? data science\n",
    "students?"
   ]
  },
  {
   "cell_type": "markdown",
   "id": "28164ec6-7875-4201-9060-c20eb70fdb8b",
   "metadata": {},
   "source": [
    "1. What is the average grade range (i.e. highest grade - lowest grade) for\n",
    "dark coffee drinkers?"
   ]
  },
  {
   "cell_type": "markdown",
   "id": "05fd2940-45c9-4e87-814f-e1bfd664abf6",
   "metadata": {},
   "source": [
    "1. What is the average number of pets for medium coffee drinkers?"
   ]
  },
  {
   "cell_type": "markdown",
   "id": "4e16feb8-4882-4a5a-b03b-98d538d4b94b",
   "metadata": {},
   "source": [
    "1. What is the most common type of pet for web development students?"
   ]
  },
  {
   "cell_type": "markdown",
   "id": "889ff8ba-24dd-4c08-ad7d-fb2648ad01bd",
   "metadata": {},
   "source": [
    "1. What is the average name length?"
   ]
  },
  {
   "cell_type": "markdown",
   "id": "b9354c1c-a0b7-4e76-9c86-bd904549917a",
   "metadata": {},
   "source": [
    "1. What is the highest pet age for light coffee drinkers?"
   ]
  },
  {
   "cell_type": "code",
   "execution_count": null,
   "id": "03611b91-8c0b-48ed-b9fa-afc0aaf2281d",
   "metadata": {},
   "outputs": [],
   "source": []
  }
 ],
 "metadata": {
  "kernelspec": {
   "display_name": "Python 3 (ipykernel)",
   "language": "python",
   "name": "python3"
  },
  "language_info": {
   "codemirror_mode": {
    "name": "ipython",
    "version": 3
   },
   "file_extension": ".py",
   "mimetype": "text/x-python",
   "name": "python",
   "nbconvert_exporter": "python",
   "pygments_lexer": "ipython3",
   "version": "3.9.7"
  }
 },
 "nbformat": 4,
 "nbformat_minor": 5
}
