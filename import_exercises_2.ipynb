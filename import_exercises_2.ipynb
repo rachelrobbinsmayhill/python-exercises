{
 "cells": [
  {
   "cell_type": "markdown",
   "id": "d00f1129",
   "metadata": {},
   "source": [
    "Create a jupyter notebook named import_exercises.ipynb. \n",
    "- Use from to import the get_letter_grade function and give it an alias. \n",
    "- Test this function in your notebook."
   ]
  },
  {
   "cell_type": "code",
   "execution_count": null,
   "id": "fb02676a",
   "metadata": {},
   "outputs": [],
   "source": [
    "from function_exercises import get_letter_grade as letter_grade"
   ]
  },
  {
   "cell_type": "raw",
   "id": "bef7c754",
   "metadata": {},
   "source": [
    "letter_grade(70)"
   ]
  }
 ],
 "metadata": {
  "kernelspec": {
   "display_name": "Python 3 (ipykernel)",
   "language": "python",
   "name": "python3"
  },
  "language_info": {
   "codemirror_mode": {
    "name": "ipython",
    "version": 3
   },
   "file_extension": ".py",
   "mimetype": "text/x-python",
   "name": "python",
   "nbconvert_exporter": "python",
   "pygments_lexer": "ipython3",
   "version": "3.9.7"
  }
 },
 "nbformat": 4,
 "nbformat_minor": 5
}
