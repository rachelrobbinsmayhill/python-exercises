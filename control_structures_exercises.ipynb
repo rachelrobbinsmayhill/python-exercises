{
 "cells": [
  {
   "cell_type": "markdown",
   "id": "1a586f38",
   "metadata": {},
   "source": [
    "# Control Structures\n",
    "### control_structures_exercises.py"
   ]
  },
  {
   "cell_type": "markdown",
   "id": "96a246e4",
   "metadata": {},
   "source": [
    "## 1. Conditional Basics"
   ]
  },
  {
   "cell_type": "markdown",
   "id": "7bd0efe0",
   "metadata": {},
   "source": [
    "## a. prompt the user for a day of the week, print out whether the day is Monday or not"
   ]
  },
  {
   "cell_type": "code",
   "execution_count": 8,
   "id": "c073693b",
   "metadata": {
    "scrolled": true
   },
   "outputs": [
    {
     "name": "stdout",
     "output_type": "stream",
     "text": [
      "What day of the week is it today? sunday\n",
      "At least today is not Monday.\n"
     ]
    }
   ],
   "source": [
    "user_prompt = input('What day of the week is it today? ').lower()\n",
    "\n",
    "if user_prompt == 'monday':\n",
    "    print('Have a great first day of the week!')\n",
    "else:\n",
    "    print('At least today is not Monday.')"
   ]
  },
  {
   "cell_type": "markdown",
   "id": "0dd2eae9",
   "metadata": {},
   "source": [
    "#### As Instructed During Review:"
   ]
  },
  {
   "cell_type": "code",
   "execution_count": null,
   "id": "b79ffb10",
   "metadata": {
    "scrolled": true
   },
   "outputs": [],
   "source": [
    "day_of_week = input('Please input a day of the week: ')\n",
    "'Friday'.lower()\n",
    "if day_of_week.lower() == 'monday':\n",
    "    print('lasagna')\n",
    "else:\n",
    "    print('not monday')"
   ]
  },
  {
   "cell_type": "markdown",
   "id": "32b3feb7",
   "metadata": {},
   "source": [
    "_________________________________________________________________________"
   ]
  },
  {
   "cell_type": "markdown",
   "id": "637c3540",
   "metadata": {},
   "source": [
    "## b. prompt the user for a day of the week, print out whether the day is a weekday or a weekend"
   ]
  },
  {
   "cell_type": "code",
   "execution_count": 1,
   "id": "7b040446",
   "metadata": {},
   "outputs": [
    {
     "name": "stdout",
     "output_type": "stream",
     "text": [
      "What day of the week is it today? Tuesday\n",
      "Way to work!\n"
     ]
    }
   ],
   "source": [
    "user_prompt = input('What day of the week is it today? ').lower()\n",
    "\n",
    "weekday = ['monday', 'tuesday', 'wednesday', 'thursday', 'friday']\n",
    "weekend = ['saturday', 'sunday']\n",
    "\n",
    "if user_prompt in weekday:\n",
    "        print(\"Way to work!\")\n",
    "elif user_prompt in weekend:\n",
    "    print('Yay for the weekend!')\n",
    "else:\n",
    "    print('Try again, by entering a day of the week.')"
   ]
  },
  {
   "cell_type": "markdown",
   "id": "fafcbd7e",
   "metadata": {},
   "source": [
    "#### As Instructed During Review:"
   ]
  },
  {
   "cell_type": "code",
   "execution_count": null,
   "id": "35371927",
   "metadata": {},
   "outputs": [],
   "source": [
    "# potential options:\n",
    "# monday, tuesday, wednesday, thursday, friday, saturday, sunday\n",
    "# what can we use to determine a weekend?\n",
    "# let's check for a day of week that starts with s\n",
    "\n",
    "day_of_week.lower()\n",
    "\n",
    "if day_of_week.lower().startswith('s'):\n",
    "    print('weekend')\n",
    "else:\n",
    "    print('you better work ')"
   ]
  },
  {
   "cell_type": "markdown",
   "id": "dbb39b00",
   "metadata": {},
   "source": [
    "_________________________________________________________________________"
   ]
  },
  {
   "cell_type": "markdown",
   "id": "a2e74053",
   "metadata": {},
   "source": [
    "## c. create variables and make up values for\n",
    "\n",
    "- the number of hours worked in one week\n",
    "- the hourly rate\n",
    "- how much the week's paycheck will be\n",
    "\n",
    "- write the python code that calculates the weekly paycheck. \n",
    "- You get paid - time and a half if you work more than 40 hours"
   ]
  },
  {
   "cell_type": "code",
   "execution_count": 2,
   "id": "84b3a305",
   "metadata": {},
   "outputs": [
    {
     "name": "stdout",
     "output_type": "stream",
     "text": [
      "How many hours did you work this week? 45\n",
      "Your total paycheck is $ 475.00, to include overtime.\n"
     ]
    }
   ],
   "source": [
    "# c. create variables and make up values for\n",
    "    # c1. the number of hours worked in one week\n",
    "        # number_of_hours = \n",
    "    # c2. the hourly rate\n",
    "        # hourly_rate = \n",
    "    # c3. how much the week's paycheck will be\n",
    "        # weekly_paycheck = number_of_hours * hourly_rate\n",
    "\n",
    "number_of_hours = input('How many hours did you work this week? ').lower()\n",
    "number_of_hours = int(number_of_hours)\n",
    "hourly_rate = 10.00\n",
    "weekly_paycheck = number_of_hours * hourly_rate\n",
    "overtime_paycheck = (((number_of_hours - 40) * (hourly_rate * 1.5)) + (hourly_rate * 40))\n",
    "\n",
    "if number_of_hours <= 40:\n",
    "    print (f'Your total paycheck is ${weekly_paycheck: .2f}.')\n",
    "\n",
    "elif number_of_hours >= 41:\n",
    "    print(f'Your total paycheck is ${overtime_paycheck: .2f}, to include overtime.')"
   ]
  },
  {
   "cell_type": "markdown",
   "id": "12406b82",
   "metadata": {},
   "source": [
    "#### As Instructed During Review:"
   ]
  },
  {
   "cell_type": "code",
   "execution_count": null,
   "id": "d91e35aa",
   "metadata": {},
   "outputs": [],
   "source": [
    "hours_worked_in_week = 42\n",
    "hourly_rate = 14.89\n",
    "\n",
    "if hours_worked_in_week <= 40:\n",
    "    paycheck = hours_worked_in_week * hourly_rate\n",
    "else:\n",
    "    overtime_hours = hours_worked_in_week - 40\n",
    "    overtime_pay = overtime_hours * 1.5 * hourly_rate\n",
    "    base_pay = 40 * hourly_rate\n",
    "    paycheck = base_pay + overtime_pay\n",
    "    \n",
    "print(paycheck)"
   ]
  },
  {
   "cell_type": "markdown",
   "id": "7205ad6f",
   "metadata": {},
   "source": [
    "_________________________________________________________________________"
   ]
  },
  {
   "cell_type": "markdown",
   "id": "e9347b47",
   "metadata": {},
   "source": [
    "## 2. Loop Basics"
   ]
  },
  {
   "cell_type": "markdown",
   "id": "e9ffa12b",
   "metadata": {},
   "source": [
    "### a. While\n",
    "## a.1.\n",
    "\n",
    "- Create an integer variable i with a value of 5.\n",
    "-- i = 5\n",
    "\n",
    "- Create a while loop that runs so long as i is less than or equal to 15\n",
    "-- while i <=15\n",
    "\n",
    "- Each loop iteration, output the current value of i, \n",
    "-- print(i)\n",
    "\n",
    "- then increment i by one.\n",
    "-- i +=1"
   ]
  },
  {
   "cell_type": "code",
   "execution_count": 3,
   "id": "c5dd034a",
   "metadata": {},
   "outputs": [
    {
     "name": "stdout",
     "output_type": "stream",
     "text": [
      "5\n",
      "6\n",
      "7\n",
      "8\n",
      "9\n",
      "10\n",
      "11\n",
      "12\n",
      "13\n",
      "14\n",
      "15\n"
     ]
    }
   ],
   "source": [
    "i = 5\n",
    "\n",
    "while i <= 15:\n",
    "    print(i)\n",
    "    i += 1"
   ]
  },
  {
   "cell_type": "markdown",
   "id": "ab8c88cc",
   "metadata": {},
   "source": [
    "#### As Instructed During Review:"
   ]
  },
  {
   "cell_type": "code",
   "execution_count": 4,
   "id": "03f2d9fb",
   "metadata": {},
   "outputs": [
    {
     "name": "stdout",
     "output_type": "stream",
     "text": [
      "5\n",
      "6\n",
      "7\n",
      "8\n",
      "9\n",
      "10\n",
      "11\n",
      "12\n",
      "13\n",
      "14\n",
      "15\n"
     ]
    }
   ],
   "source": [
    "i = 5\n",
    "\n",
    "while i < 16:\n",
    "    print(i)\n",
    "    i += 1"
   ]
  },
  {
   "cell_type": "markdown",
   "id": "f03222c9",
   "metadata": {},
   "source": [
    "_________________________________________________________________________"
   ]
  },
  {
   "cell_type": "markdown",
   "id": "3c7a4b58",
   "metadata": {},
   "source": [
    "## a.2.\n",
    "- Create a while loop that will count by 2's \n",
    "- starting with 0 and ending at 100. \n",
    "- Follow each number with a new line."
   ]
  },
  {
   "cell_type": "code",
   "execution_count": 19,
   "id": "270c2878",
   "metadata": {},
   "outputs": [
    {
     "name": "stdout",
     "output_type": "stream",
     "text": [
      "2\n",
      "4\n",
      "6\n",
      "8\n",
      "10\n",
      "12\n",
      "14\n",
      "16\n",
      "18\n",
      "20\n",
      "22\n",
      "24\n",
      "26\n",
      "28\n",
      "30\n",
      "32\n",
      "34\n",
      "36\n",
      "38\n",
      "40\n",
      "42\n",
      "44\n",
      "46\n",
      "48\n",
      "50\n",
      "52\n",
      "54\n",
      "56\n",
      "58\n",
      "60\n",
      "62\n",
      "64\n",
      "66\n",
      "68\n",
      "70\n",
      "72\n",
      "74\n",
      "76\n",
      "78\n",
      "80\n",
      "82\n",
      "84\n",
      "86\n",
      "88\n",
      "90\n",
      "92\n",
      "94\n",
      "96\n",
      "98\n",
      "100\n"
     ]
    }
   ],
   "source": [
    "i = 0\n",
    "while i in range (99):\n",
    "    i += 2\n",
    "    print (i)"
   ]
  },
  {
   "cell_type": "markdown",
   "id": "386bd571",
   "metadata": {},
   "source": [
    "#### As Instructed During Review:"
   ]
  },
  {
   "cell_type": "code",
   "execution_count": null,
   "id": "45c831a3",
   "metadata": {},
   "outputs": [],
   "source": [
    "i = 0\n",
    "while i < 101:\n",
    "    print(i)\n",
    "    i += 2"
   ]
  },
  {
   "cell_type": "markdown",
   "id": "656e14bc",
   "metadata": {},
   "source": [
    "_________________________________________________________________________"
   ]
  },
  {
   "cell_type": "markdown",
   "id": "6b646f04",
   "metadata": {},
   "source": [
    "## a.3.\n",
    "- Alter your loop to count backwards by 5's \n",
    "- from 100 to -10."
   ]
  },
  {
   "cell_type": "code",
   "execution_count": 21,
   "id": "a3377f93",
   "metadata": {},
   "outputs": [
    {
     "name": "stdout",
     "output_type": "stream",
     "text": [
      "100\n",
      "95\n",
      "90\n",
      "85\n",
      "80\n",
      "75\n",
      "70\n",
      "65\n",
      "60\n",
      "55\n",
      "50\n",
      "45\n",
      "40\n",
      "35\n",
      "30\n",
      "25\n",
      "20\n",
      "15\n",
      "10\n",
      "5\n",
      "0\n",
      "-5\n",
      "-10\n"
     ]
    }
   ],
   "source": [
    "i = 100\n",
    "while i > -11:\n",
    "    print (i)\n",
    "    i -= 5 "
   ]
  },
  {
   "cell_type": "markdown",
   "id": "ff723be5",
   "metadata": {},
   "source": [
    "#### As Instructed During Review:"
   ]
  },
  {
   "cell_type": "code",
   "execution_count": null,
   "id": "c6f95637",
   "metadata": {},
   "outputs": [],
   "source": [
    "i = 100\n",
    "while i >= -10:\n",
    "    print(i)\n",
    "    i += -5"
   ]
  },
  {
   "cell_type": "markdown",
   "id": "2fa94a1a",
   "metadata": {},
   "source": [
    "_________________________________________________________________________"
   ]
  },
  {
   "cell_type": "markdown",
   "id": "71bcfa4c",
   "metadata": {},
   "source": [
    "## a.4.\n",
    "- Create a while loop that starts at 2, \n",
    "- and displays the number squared on each line \n",
    "- while the number is less than 1,000,000."
   ]
  },
  {
   "cell_type": "code",
   "execution_count": 24,
   "id": "4e888d5a",
   "metadata": {
    "scrolled": true
   },
   "outputs": [
    {
     "name": "stdout",
     "output_type": "stream",
     "text": [
      "2\n",
      "4\n",
      "16\n",
      "256\n",
      "65536\n"
     ]
    }
   ],
   "source": [
    "i = 2\n",
    "while i < 1000000:\n",
    "    print(i)\n",
    "    i **= 2"
   ]
  },
  {
   "cell_type": "markdown",
   "id": "f00dd735",
   "metadata": {},
   "source": [
    "#### As Instructed During Review:"
   ]
  },
  {
   "cell_type": "code",
   "execution_count": 25,
   "id": "4daf1832",
   "metadata": {},
   "outputs": [
    {
     "name": "stdout",
     "output_type": "stream",
     "text": [
      "2\n",
      "4\n",
      "16\n",
      "256\n",
      "65536\n"
     ]
    }
   ],
   "source": [
    "# initialize\n",
    "i = 2\n",
    "# establish condition\n",
    "# underscores do not change the way the number is interpreted, just makes it easier to read :)\n",
    "while i < 1_000_000:\n",
    "    print(i)\n",
    "    i **= 2"
   ]
  },
  {
   "cell_type": "markdown",
   "id": "f3ded4e2",
   "metadata": {},
   "source": [
    "_________________________________________________________________________"
   ]
  },
  {
   "cell_type": "markdown",
   "id": "dd9b7c9d",
   "metadata": {},
   "source": [
    "## a.5.\n",
    "- Write a loop that uses print to create the output shown below."
   ]
  },
  {
   "cell_type": "code",
   "execution_count": 26,
   "id": "6bc7a1a3",
   "metadata": {},
   "outputs": [
    {
     "name": "stdout",
     "output_type": "stream",
     "text": [
      "100\n",
      "95\n",
      "90\n",
      "85\n",
      "80\n",
      "75\n",
      "70\n",
      "65\n",
      "60\n",
      "55\n",
      "50\n",
      "45\n",
      "40\n",
      "35\n",
      "30\n",
      "25\n",
      "20\n",
      "15\n",
      "10\n",
      "5\n"
     ]
    }
   ],
   "source": [
    "i = 100\n",
    "while i > 0: \n",
    "    print (i)\n",
    "    i -= 5"
   ]
  },
  {
   "cell_type": "markdown",
   "id": "d5ba7058",
   "metadata": {},
   "source": [
    "#### As Instructed During Review:"
   ]
  },
  {
   "cell_type": "code",
   "execution_count": null,
   "id": "064faf9d",
   "metadata": {},
   "outputs": [],
   "source": [
    "i = 100\n",
    "while i >= 5:\n",
    "    print(i)\n",
    "    i += -5"
   ]
  },
  {
   "cell_type": "markdown",
   "id": "bcfa3585",
   "metadata": {},
   "source": [
    "_________________________________________________________________________"
   ]
  },
  {
   "cell_type": "markdown",
   "id": "8b98cece",
   "metadata": {},
   "source": [
    "## FOR Loops"
   ]
  },
  {
   "cell_type": "markdown",
   "id": "7069f625",
   "metadata": {},
   "source": [
    "## b.1.\n",
    "- Write some code that prompts the user for a number, \n",
    "- then shows a multiplication table up through 10 for that number."
   ]
  },
  {
   "cell_type": "code",
   "execution_count": 28,
   "id": "66a31b76",
   "metadata": {},
   "outputs": [
    {
     "name": "stdout",
     "output_type": "stream",
     "text": [
      "Enter a whole number: 7\n",
      "7 x 1 = 7\n",
      "7 x 2 = 14\n",
      "7 x 3 = 21\n",
      "7 x 4 = 28\n",
      "7 x 5 = 35\n",
      "7 x 6 = 42\n",
      "7 x 7 = 49\n",
      "7 x 8 = 56\n",
      "7 x 9 = 63\n",
      "7 x 10 = 70\n"
     ]
    }
   ],
   "source": [
    "while True:\n",
    "    \n",
    "    try:\n",
    "        user_input = input('Enter a whole number: ').lower()\n",
    "        user_input = int(user_input)\n",
    "        break\n",
    "    except ValueError:\n",
    "        print('Please provide a valid whole number.')\n",
    "        \n",
    "\n",
    "for i in range(1, 11):\n",
    "    print(user_input, 'x', i , '=', user_input*i)"
   ]
  },
  {
   "cell_type": "markdown",
   "id": "fd629145",
   "metadata": {},
   "source": [
    "#### As Instructed During Review:"
   ]
  },
  {
   "cell_type": "code",
   "execution_count": null,
   "id": "40aa53d4",
   "metadata": {},
   "outputs": [],
   "source": [
    "proposed_num = input('please insert a positive integer ')\n",
    "type(proposed_num)\n",
    "int(proposed_num)\n",
    "\n",
    "if int(proposed_num) > 0:\n",
    "    for n in range(1,11):\n",
    "        print(f'{proposed_num} X {n} = {int(proposed_num) * n}')\n",
    "else:\n",
    "    print('try again')"
   ]
  },
  {
   "cell_type": "markdown",
   "id": "4440c44f",
   "metadata": {},
   "source": [
    "_________________________________________________________________________"
   ]
  },
  {
   "cell_type": "markdown",
   "id": "607381a4",
   "metadata": {},
   "source": [
    "## b.2.\n",
    "- Create a for loop that uses print to create the output shown."
   ]
  },
  {
   "cell_type": "code",
   "execution_count": 31,
   "id": "b0e1a77a",
   "metadata": {},
   "outputs": [
    {
     "name": "stdout",
     "output_type": "stream",
     "text": [
      "\n",
      "1\n",
      "22\n",
      "333\n",
      "4444\n",
      "55555\n",
      "666666\n",
      "7777777\n",
      "88888888\n",
      "999999999\n"
     ]
    }
   ],
   "source": [
    "rows = 9\n",
    "\n",
    "for i in range(rows+1):\n",
    "        for j in range(i):\n",
    "            print(i, end='')\n",
    "        print('')"
   ]
  },
  {
   "cell_type": "markdown",
   "id": "f43f0cbe",
   "metadata": {},
   "source": [
    "#### As Instructed During Review:"
   ]
  },
  {
   "cell_type": "code",
   "execution_count": null,
   "id": "560d6133",
   "metadata": {},
   "outputs": [],
   "source": [
    "for n in range(1,10):\n",
    "    print(int(str(n) * n))"
   ]
  },
  {
   "cell_type": "markdown",
   "id": "0c9145bf",
   "metadata": {},
   "source": [
    "_________________________________________________________________________"
   ]
  },
  {
   "cell_type": "markdown",
   "id": "66bd02f9",
   "metadata": {},
   "source": [
    "## Break and Continue"
   ]
  },
  {
   "cell_type": "markdown",
   "id": "0dffb15a",
   "metadata": {},
   "source": [
    "## c.1.\n",
    "\n",
    "- Prompt the user for an odd number between 1 and 50. \n",
    "- Use a loop and a break statement to continue prompting the user if they enter invalid input. \n",
    "- Hint: use the isdigit method on strings to determine this).\n",
    "\n",
    "- Use a loop and the continue statement to output all the \n",
    "- odd numbers between 1 and 50,except for the number the user entered.\n"
   ]
  },
  {
   "cell_type": "code",
   "execution_count": 8,
   "id": "b460bd6c",
   "metadata": {},
   "outputs": [
    {
     "name": "stdout",
     "output_type": "stream",
     "text": [
      "Please enter an odd number between 1 and 50: 3\n",
      "Number to skip is: 3\n",
      "Here is an odd number: 1\n",
      "Yikes! Skipping number: 3\n",
      "Here is an odd number: 5\n",
      "Here is an odd number: 7\n",
      "Here is an odd number: 9\n",
      "Here is an odd number: 11\n",
      "Here is an odd number: 13\n",
      "Here is an odd number: 15\n",
      "Here is an odd number: 17\n",
      "Here is an odd number: 19\n",
      "Here is an odd number: 21\n",
      "Here is an odd number: 23\n",
      "Here is an odd number: 25\n",
      "Here is an odd number: 27\n",
      "Here is an odd number: 29\n",
      "Here is an odd number: 31\n",
      "Here is an odd number: 33\n",
      "Here is an odd number: 35\n",
      "Here is an odd number: 37\n",
      "Here is an odd number: 39\n",
      "Here is an odd number: 41\n",
      "Here is an odd number: 43\n",
      "Here is an odd number: 45\n",
      "Here is an odd number: 47\n",
      "Here is an odd number: 49\n"
     ]
    }
   ],
   "source": [
    "while True:\n",
    "    user_input = input('Please enter an odd number between 1 and 50: ')\n",
    "    if not user_input.isdigit():\n",
    "        print('Please provide a number.')\n",
    "    if not int(user_input) >=50 and int(user_input) % 2 == 0:\n",
    "        print('Remember, the number must be between 1 and 50 and be odd.')\n",
    "    else: \n",
    "        break\n",
    "\n",
    "print(f'Number to skip is: {user_input}')         \n",
    "user_input = int(user_input)              \n",
    "for i in range(1,50,2):\n",
    "    if i != (user_input):\n",
    "         print(f'Here is an odd number: {i}')\n",
    "    else:\n",
    "        print(f'Yikes! Skipping number: {user_input}')\n",
    "        continue"
   ]
  },
  {
   "cell_type": "markdown",
   "id": "b3dbc6eb",
   "metadata": {},
   "source": [
    "#### As Instructed During Review:"
   ]
  },
  {
   "cell_type": "code",
   "execution_count": null,
   "id": "8db9f949",
   "metadata": {},
   "outputs": [],
   "source": [
    "while True:\n",
    "   \n",
    "posited_num = input('Please insert an odd number between 1 and 50: ')\n",
    "    if posited_num.isdigit():\n",
    "        if int(posited_num) % 2 == 1 and int(posited_num) <= 50:\n",
    "            break\n",
    "            \n",
    "posited_num = int(posited_num)\n",
    "\n",
    "for num in range(1, 50, 2):\n",
    "    if num == posited_num:\n",
    "        print('Yikes! skipping number: ', num)\n",
    "    else:\n",
    "        print('Here is an odd number: ', num)"
   ]
  },
  {
   "cell_type": "markdown",
   "id": "4539e759",
   "metadata": {},
   "source": [
    "_________________________________________________________________________"
   ]
  },
  {
   "cell_type": "markdown",
   "id": "bf9550bf",
   "metadata": {},
   "source": [
    "## d.\n",
    "\n",
    "- Prompt the user to enter a positive number \n",
    "- write a loop that counts from 0 to that number. \n",
    "- Hints: \n",
    "- - first make sure that the value the user entered is a valid number\n",
    "- - also note that the input function returns a string, so you'll need to convert this to a numeric type.\n",
    "\n"
   ]
  },
  {
   "cell_type": "code",
   "execution_count": null,
   "id": "8b07d969",
   "metadata": {},
   "outputs": [
    {
     "name": "stdout",
     "output_type": "stream",
     "text": [
      "Please insert a positive number: 4\n",
      "Please insert a positive number: -4\n"
     ]
    }
   ],
   "source": [
    "while True: \n",
    "    user_input = int(input('Please insert a positive number: '))\n",
    "\n",
    "for n in range (0, int(user_input) +1):\n",
    "    print(n)"
   ]
  },
  {
   "cell_type": "code",
   "execution_count": null,
   "id": "aca8fe8c",
   "metadata": {},
   "outputs": [],
   "source": [
    "  if not user_input.isdigit():\n",
    "        print('Please provide a number.')\n",
    "    elif int(user_input) > 0:\n",
    "        print('Remember, the number must be postitive.')\n",
    "    else: \n",
    "        break   \n",
    "    \n",
    "    \n",
    "        while True:\n",
    "    posited_num = input('Please enter a positive integer: ')\n",
    "    if posited_num.isdigit():\n",
    "        if int(posited_num) > 0:\n",
    "            break\n",
    "posited_num = int(posited_num)\n",
    "for num in range(0, posited_num + 1):\n",
    "    print(num)"
   ]
  },
  {
   "cell_type": "markdown",
   "id": "f6680069",
   "metadata": {},
   "source": [
    "#### As Instructed During Review:"
   ]
  },
  {
   "cell_type": "code",
   "execution_count": 1,
   "id": "c75e8532",
   "metadata": {},
   "outputs": [
    {
     "name": "stdout",
     "output_type": "stream",
     "text": [
      "Please enter a positive integer: -4\n"
     ]
    },
    {
     "ename": "KeyboardInterrupt",
     "evalue": "Interrupted by user",
     "output_type": "error",
     "traceback": [
      "\u001b[0;31m---------------------------------------------------------------------------\u001b[0m",
      "\u001b[0;31mKeyboardInterrupt\u001b[0m                         Traceback (most recent call last)",
      "\u001b[0;32m/var/folders/jx/x5_xzwy107g6d0zd021r2ph40000gn/T/ipykernel_45947/2516661145.py\u001b[0m in \u001b[0;36m<module>\u001b[0;34m\u001b[0m\n\u001b[1;32m      1\u001b[0m \u001b[0;32mwhile\u001b[0m \u001b[0;32mTrue\u001b[0m\u001b[0;34m:\u001b[0m\u001b[0;34m\u001b[0m\u001b[0;34m\u001b[0m\u001b[0m\n\u001b[0;32m----> 2\u001b[0;31m     \u001b[0mposited_num\u001b[0m \u001b[0;34m=\u001b[0m \u001b[0minput\u001b[0m\u001b[0;34m(\u001b[0m\u001b[0;34m'Please enter a positive integer: '\u001b[0m\u001b[0;34m)\u001b[0m\u001b[0;34m\u001b[0m\u001b[0;34m\u001b[0m\u001b[0m\n\u001b[0m\u001b[1;32m      3\u001b[0m     \u001b[0;32mif\u001b[0m \u001b[0mposited_num\u001b[0m\u001b[0;34m.\u001b[0m\u001b[0misdigit\u001b[0m\u001b[0;34m(\u001b[0m\u001b[0;34m)\u001b[0m\u001b[0;34m:\u001b[0m\u001b[0;34m\u001b[0m\u001b[0;34m\u001b[0m\u001b[0m\n\u001b[1;32m      4\u001b[0m         \u001b[0;32mif\u001b[0m \u001b[0mint\u001b[0m\u001b[0;34m(\u001b[0m\u001b[0mposited_num\u001b[0m\u001b[0;34m)\u001b[0m \u001b[0;34m>\u001b[0m \u001b[0;36m0\u001b[0m\u001b[0;34m:\u001b[0m\u001b[0;34m\u001b[0m\u001b[0;34m\u001b[0m\u001b[0m\n\u001b[1;32m      5\u001b[0m             \u001b[0;32mbreak\u001b[0m\u001b[0;34m\u001b[0m\u001b[0;34m\u001b[0m\u001b[0m\n",
      "\u001b[0;32m/usr/local/anaconda3/lib/python3.9/site-packages/ipykernel/kernelbase.py\u001b[0m in \u001b[0;36mraw_input\u001b[0;34m(self, prompt)\u001b[0m\n\u001b[1;32m   1004\u001b[0m                 \u001b[0;34m\"raw_input was called, but this frontend does not support input requests.\"\u001b[0m\u001b[0;34m\u001b[0m\u001b[0;34m\u001b[0m\u001b[0m\n\u001b[1;32m   1005\u001b[0m             )\n\u001b[0;32m-> 1006\u001b[0;31m         return self._input_request(\n\u001b[0m\u001b[1;32m   1007\u001b[0m             \u001b[0mstr\u001b[0m\u001b[0;34m(\u001b[0m\u001b[0mprompt\u001b[0m\u001b[0;34m)\u001b[0m\u001b[0;34m,\u001b[0m\u001b[0;34m\u001b[0m\u001b[0;34m\u001b[0m\u001b[0m\n\u001b[1;32m   1008\u001b[0m             \u001b[0mself\u001b[0m\u001b[0;34m.\u001b[0m\u001b[0m_parent_ident\u001b[0m\u001b[0;34m[\u001b[0m\u001b[0;34m\"shell\"\u001b[0m\u001b[0;34m]\u001b[0m\u001b[0;34m,\u001b[0m\u001b[0;34m\u001b[0m\u001b[0;34m\u001b[0m\u001b[0m\n",
      "\u001b[0;32m/usr/local/anaconda3/lib/python3.9/site-packages/ipykernel/kernelbase.py\u001b[0m in \u001b[0;36m_input_request\u001b[0;34m(self, prompt, ident, parent, password)\u001b[0m\n\u001b[1;32m   1049\u001b[0m             \u001b[0;32mexcept\u001b[0m \u001b[0mKeyboardInterrupt\u001b[0m\u001b[0;34m:\u001b[0m\u001b[0;34m\u001b[0m\u001b[0;34m\u001b[0m\u001b[0m\n\u001b[1;32m   1050\u001b[0m                 \u001b[0;31m# re-raise KeyboardInterrupt, to truncate traceback\u001b[0m\u001b[0;34m\u001b[0m\u001b[0;34m\u001b[0m\u001b[0m\n\u001b[0;32m-> 1051\u001b[0;31m                 \u001b[0;32mraise\u001b[0m \u001b[0mKeyboardInterrupt\u001b[0m\u001b[0;34m(\u001b[0m\u001b[0;34m\"Interrupted by user\"\u001b[0m\u001b[0;34m)\u001b[0m \u001b[0;32mfrom\u001b[0m \u001b[0;32mNone\u001b[0m\u001b[0;34m\u001b[0m\u001b[0;34m\u001b[0m\u001b[0m\n\u001b[0m\u001b[1;32m   1052\u001b[0m             \u001b[0;32mexcept\u001b[0m \u001b[0mException\u001b[0m\u001b[0;34m:\u001b[0m\u001b[0;34m\u001b[0m\u001b[0;34m\u001b[0m\u001b[0m\n\u001b[1;32m   1053\u001b[0m                 \u001b[0mself\u001b[0m\u001b[0;34m.\u001b[0m\u001b[0mlog\u001b[0m\u001b[0;34m.\u001b[0m\u001b[0mwarning\u001b[0m\u001b[0;34m(\u001b[0m\u001b[0;34m\"Invalid Message:\"\u001b[0m\u001b[0;34m,\u001b[0m \u001b[0mexc_info\u001b[0m\u001b[0;34m=\u001b[0m\u001b[0;32mTrue\u001b[0m\u001b[0;34m)\u001b[0m\u001b[0;34m\u001b[0m\u001b[0;34m\u001b[0m\u001b[0m\n",
      "\u001b[0;31mKeyboardInterrupt\u001b[0m: Interrupted by user"
     ]
    }
   ],
   "source": [
    "while True:\n",
    "    posited_num = input('Please enter a positive integer: ')\n",
    "    if posited_num.isdigit():\n",
    "        if int(posited_num) > 0:\n",
    "            break\n",
    "posited_num = int(posited_num)\n",
    "for num in range(0, posited_num + 1):\n",
    "    print(num)"
   ]
  },
  {
   "cell_type": "markdown",
   "id": "b6d3027b",
   "metadata": {},
   "source": [
    "_________________________________________________________________________"
   ]
  },
  {
   "cell_type": "markdown",
   "id": "60be9745",
   "metadata": {},
   "source": [
    "## e. \n",
    "- Write a program that prompts the user for a positive integer. Next write a loop that prints out the numbers from the number the user entered down to 1."
   ]
  },
  {
   "cell_type": "code",
   "execution_count": null,
   "id": "2ba8c245",
   "metadata": {},
   "outputs": [],
   "source": []
  },
  {
   "cell_type": "markdown",
   "id": "165d9c01",
   "metadata": {},
   "source": [
    "#### As Instructed During Review:"
   ]
  },
  {
   "cell_type": "code",
   "execution_count": null,
   "id": "1f3a3f25",
   "metadata": {},
   "outputs": [],
   "source": [
    "while True:\n",
    "    posited_num = input('Please enter a positive integer: ')\n",
    "    if posited_num.isdigit():\n",
    "        if int(posited_num) > 0:\n",
    "            break\n",
    "posited_num = int(posited_num)\n",
    "for num in range(posited_num, 0, -1):\n",
    "    print(num)"
   ]
  },
  {
   "cell_type": "markdown",
   "id": "a2454da3",
   "metadata": {},
   "source": [
    "_________________________________________________________________________"
   ]
  },
  {
   "cell_type": "markdown",
   "id": "14e9c64c",
   "metadata": {},
   "source": [
    "## 3. FIZZBUZZ\n",
    "One of the most common interview questions for entry-level programmers is the FizzBuzz test. Developed by Imran Ghory, the test is designed to test basic looping and conditional logic skills.\n",
    "\n",
    "- Write a program that prints the numbers from 1 to 100.\n",
    "- For multiples of three print \"Fizz\" instead of the number\n",
    "- For the multiples of five print \"Buzz\".\n",
    "- For numbers which are multiples of both three and five print \"FizzBuzz\"."
   ]
  },
  {
   "cell_type": "code",
   "execution_count": 43,
   "id": "73e65803",
   "metadata": {},
   "outputs": [
    {
     "name": "stdout",
     "output_type": "stream",
     "text": [
      "1\n",
      "2\n",
      "Fizz\n",
      "4\n",
      "Buzz\n",
      "Fizz\n",
      "7\n",
      "8\n",
      "Fizz\n",
      "Buzz\n",
      "11\n",
      "Fizz\n",
      "13\n",
      "14\n",
      "FizzBuzz\n",
      "16\n",
      "17\n",
      "Fizz\n",
      "19\n",
      "Buzz\n",
      "Fizz\n",
      "22\n",
      "23\n",
      "Fizz\n",
      "Buzz\n",
      "26\n",
      "Fizz\n",
      "28\n",
      "29\n",
      "FizzBuzz\n",
      "31\n",
      "32\n",
      "Fizz\n",
      "34\n",
      "Buzz\n",
      "Fizz\n",
      "37\n",
      "38\n",
      "Fizz\n",
      "Buzz\n",
      "41\n",
      "Fizz\n",
      "43\n",
      "44\n",
      "FizzBuzz\n",
      "46\n",
      "47\n",
      "Fizz\n",
      "49\n",
      "Buzz\n",
      "Fizz\n",
      "52\n",
      "53\n",
      "Fizz\n",
      "Buzz\n",
      "56\n",
      "Fizz\n",
      "58\n",
      "59\n",
      "FizzBuzz\n",
      "61\n",
      "62\n",
      "Fizz\n",
      "64\n",
      "Buzz\n",
      "Fizz\n",
      "67\n",
      "68\n",
      "Fizz\n",
      "Buzz\n",
      "71\n",
      "Fizz\n",
      "73\n",
      "74\n",
      "FizzBuzz\n",
      "76\n",
      "77\n",
      "Fizz\n",
      "79\n",
      "Buzz\n",
      "Fizz\n",
      "82\n",
      "83\n",
      "Fizz\n",
      "Buzz\n",
      "86\n",
      "Fizz\n",
      "88\n",
      "89\n",
      "FizzBuzz\n",
      "91\n",
      "92\n",
      "Fizz\n",
      "94\n",
      "Buzz\n",
      "Fizz\n",
      "97\n",
      "98\n",
      "Fizz\n"
     ]
    }
   ],
   "source": [
    "for n in range(1,100):\n",
    "    if n % 3 == 0 and n % 5 == 0:\n",
    "        print(\"FizzBuzz\")\n",
    "    elif n % 5 == 0:\n",
    "        print(\"Buzz\")\n",
    "    elif n % 3 == 0:\n",
    "        print(\"Fizz\")\n",
    "    else:\n",
    "        print(n)\n",
    "    "
   ]
  },
  {
   "cell_type": "markdown",
   "id": "c8e8bf9c",
   "metadata": {},
   "source": [
    "#### As Instructed During Review:"
   ]
  },
  {
   "cell_type": "code",
   "execution_count": null,
   "id": "05e3700f",
   "metadata": {},
   "outputs": [],
   "source": [
    "for  i in range(1, 101):\n",
    "    if i % 3 == 0 and i % 5 == 0:\n",
    "        print('Fizzbuzz')\n",
    "    elif i % 3 == 0:\n",
    "        print('Fizz')\n",
    "    elif i % 5 == 0:\n",
    "        print('buzz')\n",
    "    else:\n",
    "        print(i)"
   ]
  },
  {
   "cell_type": "markdown",
   "id": "bfbdb754",
   "metadata": {},
   "source": [
    "_________________________________________________________________________"
   ]
  },
  {
   "cell_type": "markdown",
   "id": "ac96554f",
   "metadata": {},
   "source": [
    "## 4. Display a table of powers.\n",
    "\n",
    "- Prompt the user to enter an integer.\n",
    "- Display a table of squares and cubes from 1 to the value entered.\n",
    "- Ask if the user wants to continue.\n",
    "- Assume that the user will enter valid data.\n",
    "- Only continue if the user agrees to.\n",
    "- Bonus: Research python's format string specifiers to align the table"
   ]
  },
  {
   "cell_type": "code",
   "execution_count": null,
   "id": "81042bf6",
   "metadata": {},
   "outputs": [],
   "source": []
  },
  {
   "cell_type": "markdown",
   "id": "3f413638",
   "metadata": {},
   "source": [
    "#### As Instructed During Review:"
   ]
  },
  {
   "cell_type": "code",
   "execution_count": null,
   "id": "0e05c2b0",
   "metadata": {},
   "outputs": [],
   "source": [
    "while True:\n",
    "    posited_num = input('Please insert a positive integer: ')\n",
    "    if posited_num.isdigit():\n",
    "        if int(posited_num) > 0:\n",
    "            break\n",
    "proceed = input('Do you want to continue and print a table of powers? :')\n",
    "if proceed.lower().startswith('y'):\n",
    "    posited_num = int(posited_num)\n",
    "    print()\n",
    "    print('number | squared | cubed')\n",
    "    print('------ | ------- | -----')\n",
    "    for i in range(1, posited_num + 1):\n",
    "        i_squared = i ** 2\n",
    "        i_cubed = i ** 3\n",
    "        print(f'{i: <6} | {i_squared: ^7} | {i_cubed: 5}')"
   ]
  },
  {
   "cell_type": "markdown",
   "id": "beb86e9f",
   "metadata": {},
   "source": [
    "_________________________________________________________________________"
   ]
  },
  {
   "cell_type": "markdown",
   "id": "08929483",
   "metadata": {},
   "source": [
    "## 5. Convert given number grades into letter grades.\n",
    "\n",
    "- Prompt the user for a numerical grade from 0 to 100.\n",
    "- Display the corresponding letter grade.\n",
    "- Prompt the user to continue.\n",
    "- Assume that the user will enter valid integers for the grades.\n",
    "- The application should only continue if the user agrees to.\n",
    "- Grade Ranges:\n",
    "\n",
    "- A : 100 - 88\n",
    "- B : 87 - 80\n",
    "- C : 79 - 67\n",
    "- D : 66 - 60\n",
    "- F : 59 - 0\n",
    "\n",
    "- Bonus\n",
    "- Edit your grade ranges to include pluses and minuses (ex: 99-100 = A+)."
   ]
  },
  {
   "cell_type": "code",
   "execution_count": null,
   "id": "41ee5d31",
   "metadata": {},
   "outputs": [],
   "source": []
  },
  {
   "cell_type": "markdown",
   "id": "25c5f80a",
   "metadata": {},
   "source": [
    "#### As Instructed During Review:"
   ]
  },
  {
   "cell_type": "code",
   "execution_count": null,
   "id": "77314ea6",
   "metadata": {},
   "outputs": [],
   "source": [
    "while True:\n",
    "    user_number = input(\"Please enter a numeral between 0 and 100: \")\n",
    "    if user_number.isdigit():\n",
    "        user_number = int(user_number)\n",
    "        if user_number < 0 or user_number > 100:\n",
    "            print('got to this point')\n",
    "            continue\n",
    "        break\n",
    "        \n",
    "if grade in range(60):\n",
    "    grade = 'F'\n",
    "elif grade in range(60,67):\n",
    "    grade = 'D'\n",
    "elif grade in range(67,80):\n",
    "    grade = 'C'\n",
    "elif grade in range(80,88):\n",
    "    grade = 'B'\n",
    "else:\n",
    "    grade = 'A'\n",
    "\n",
    "print(grade)"
   ]
  },
  {
   "cell_type": "markdown",
   "id": "9dc0a399",
   "metadata": {},
   "source": [
    "_________________________________________________________________________"
   ]
  },
  {
   "cell_type": "markdown",
   "id": "32ca1514",
   "metadata": {},
   "source": [
    "## 6. \n",
    "- Create a list of dictionaries \n",
    "- where each dictionary represents a book that you have read. \n",
    "- Each dictionary in the list should have \n",
    "- the keys title, author, and genre. \n",
    "- Loop through the list and print out information about each book."
   ]
  },
  {
   "cell_type": "code",
   "execution_count": null,
   "id": "0ea70fbd",
   "metadata": {},
   "outputs": [],
   "source": []
  },
  {
   "cell_type": "markdown",
   "id": "c71e0887",
   "metadata": {},
   "source": [
    "#### As Instructed During Review:"
   ]
  },
  {
   "cell_type": "code",
   "execution_count": null,
   "id": "410d0eb8",
   "metadata": {},
   "outputs": [],
   "source": [
    "bookshelf = [\n",
    "    {'title': 'Annihilation',\n",
    "    'author': 'Jeff Vandermeer',\n",
    "    'genre': 'Science Fiction'},\n",
    "    {'title': 'Octopus Pie',\n",
    "    'author': 'Maredeth Gran',\n",
    "    'genre': 'Comic'},\n",
    "    {'title': 'Cabin At the End of the World',\n",
    "    'author': 'Paul Tremblay',\n",
    "    'genre': 'Horror'},\n",
    "    {'title': 'Severance',\n",
    "    'author': 'Ling Ma',\n",
    "    'genre': 'Science Fiction'},\n",
    "]"
   ]
  },
  {
   "cell_type": "code",
   "execution_count": null,
   "id": "6a966005",
   "metadata": {},
   "outputs": [],
   "source": [
    "for key in book:\n",
    "    print(key, book[key])"
   ]
  },
  {
   "cell_type": "code",
   "execution_count": null,
   "id": "f5ec1a4e",
   "metadata": {},
   "outputs": [],
   "source": [
    "for book in bookshelf:\n",
    "    print('we are living in a single dictionary here')\n",
    "    [print(key, ': ', book[key]) for key in book]\n",
    "    print('------')"
   ]
  },
  {
   "cell_type": "markdown",
   "id": "7d2b3a20",
   "metadata": {},
   "source": [
    "_________________________________________________________________________"
   ]
  },
  {
   "cell_type": "markdown",
   "id": "815227b0",
   "metadata": {},
   "source": [
    "## 6.a.\n",
    "- Prompt the user to enter a genre, then loop through your books list and print out the titles of all the books in that genre."
   ]
  },
  {
   "cell_type": "code",
   "execution_count": null,
   "id": "d5e09732",
   "metadata": {},
   "outputs": [],
   "source": []
  },
  {
   "cell_type": "markdown",
   "id": "b333837a",
   "metadata": {},
   "source": [
    "#### As Instructed During Review:"
   ]
  },
  {
   "cell_type": "code",
   "execution_count": null,
   "id": "a4d70aa2",
   "metadata": {},
   "outputs": [],
   "source": [
    "picked_genre = input('Please pick a genre and I will return the titles of that genre on shelf. \\n')\n"
   ]
  },
  {
   "cell_type": "code",
   "execution_count": null,
   "id": "92273892",
   "metadata": {},
   "outputs": [],
   "source": [
    "matches = []\n",
    "for book in bookshelf:\n",
    "    if book['genre'].lower() == picked_genre.lower():\n",
    "        matches.append(book['title'])\n",
    "if matches == []:\n",
    "    print('no books in that genre available. please check back later')\n",
    "else:\n",
    "    print(f'I have the following titles in the genre {picked_genre}')\n",
    "    [print(match) for match in matches]"
   ]
  },
  {
   "cell_type": "markdown",
   "id": "066c6ca9",
   "metadata": {},
   "source": [
    "_________________________________________________________________________"
   ]
  }
 ],
 "metadata": {
  "kernelspec": {
   "display_name": "Python 3 (ipykernel)",
   "language": "python",
   "name": "python3"
  },
  "language_info": {
   "codemirror_mode": {
    "name": "ipython",
    "version": 3
   },
   "file_extension": ".py",
   "mimetype": "text/x-python",
   "name": "python",
   "nbconvert_exporter": "python",
   "pygments_lexer": "ipython3",
   "version": "3.9.7"
  }
 },
 "nbformat": 4,
 "nbformat_minor": 5
}
